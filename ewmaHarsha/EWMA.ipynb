{
 "cells": [
  {
   "cell_type": "code",
   "execution_count": 1,
   "id": "afd6de9f-657c-4022-a192-6b41f5f32e46",
   "metadata": {},
   "outputs": [
    {
     "data": {
      "text/plain": [
       "'\\nfor n in teams:\\n    randColor = \"#\"+\\'\\'.join([random.choice(\\'0123456789ABCDEF\\') for j in range(6)])\\n    plt.plot(df[n], color = randColor , label = n)\\nplt.legend()\\nplt.show() '"
      ]
     },
     "execution_count": 1,
     "metadata": {},
     "output_type": "execute_result"
    }
   ],
   "source": [
    "import numpy as np\n",
    "import pandas as pd\n",
    "import random\n",
    "from ewmaCalculator import ewma\n",
    "from statsmodels.tsa.seasonal import seasonal_decompose\n",
    "\n",
    "import matplotlib.pyplot as plt\n",
    "from matplotlib import rcParams\n",
    "from cycler import cycler\n",
    "\n",
    "rcParams['figure.figsize'] = 18, 5\n",
    "rcParams['axes.spines.top'] = False\n",
    "rcParams['axes.spines.right'] = False\n",
    "rcParams['axes.prop_cycle'] = cycler(color=['#365977'])\n",
    "rcParams['lines.linewidth'] = 2.5\n",
    "\n",
    "#load Data\n",
    "df = pd.read_csv('RankingsTransposed.csv', index_col='Year', parse_dates=True)\n",
    "teams = df.keys()\n",
    "\"\"\"\n",
    "for n in teams:\n",
    "    randColor = \"#\"+''.join([random.choice('0123456789ABCDEF') for j in range(6)])\n",
    "    plt.plot(df[n], color = randColor , label = n)\n",
    "plt.legend()\n",
    "plt.show() \"\"\""
   ]
  },
  {
   "cell_type": "code",
   "execution_count": null,
   "id": "50942bdf",
   "metadata": {},
   "outputs": [],
   "source": [
    "def ewma(df, span, alpha):\n",
    "    predictions = []\n",
    "    startIndex = 0\n",
    "    end = span\n",
    "    while(len(df) > end):\n",
    "        dataSet = df[startIndex:end]\n",
    "        movingAverage = 0\n",
    "        for n in range(span):\n",
    "            movingAverage += (alpha) * ((1-alpha) ** (span - n - 1))*df[n + startIndex]\n",
    "          \n",
    "        \n",
    "        if (movingAverage + 1) > 0:\n",
    "            predictions.append(df[end] - movingAverage)\n",
    "        startIndex += 1\n",
    "        \n",
    "        end += 1\n",
    "    return predictions"
   ]
  },
  {
   "cell_type": "code",
   "execution_count": 17,
   "id": "4711923a-a75d-4d85-ad3e-0a2a0d34e650",
   "metadata": {},
   "outputs": [],
   "source": [
    "span = 5\n",
    "def getPredictDiff(df, teams, alpha):\n",
    "    predictions = []\n",
    "    for n in teams:\n",
    "        for scores in ewma(df[n][:-3],span,alpha):\n",
    "            predictions.append(abs(scores))\n",
    "    return sum(predictions)"
   ]
  },
  {
   "cell_type": "code",
   "execution_count": null,
   "id": "2235fcff",
   "metadata": {},
   "outputs": [],
   "source": []
  },
  {
   "cell_type": "code",
   "execution_count": 3,
   "id": "cae59085-85c4-4c63-bc3b-79160bca626b",
   "metadata": {
    "tags": []
   },
   "outputs": [],
   "source": [
    "IGNORE = \"\"\"def findBestAlpha(df, teams, step, alpha, prevDiff):\n",
    "    diff = getPredictDiff(df, teams, alpha)\n",
    "    print(\"FIRST\",step,alpha,diff)\n",
    "    diffUp = findBestAlpha(df, teams, step/2, alpha + step, diff)\n",
    "    diffDown = findBestAlpha(df, teams, step/2, alpha - step, diff)\n",
    "    if diffUp < diff and diffUp < diffDown:\n",
    "        a = findBestAlpha(df, teams, step, alpha + step, diff)\n",
    "        print(step, alpha)\n",
    "        return a\n",
    "    elif diffDown < diff:\n",
    "        b = findBestAlpha(df, teams, step, alpha - step, diff)\n",
    "        print(step, alpha)\n",
    "        return b\n",
    "    else:\n",
    "        c =  findBestAlpha(df, teams, step/2, alpha, diff)\n",
    "        print(step, alpha)\n",
    "        return c \"\"\""
   ]
  },
  {
   "cell_type": "code",
   "execution_count": 18,
   "id": "6547fef8-3dc2-4f8a-8112-1595c9423aff",
   "metadata": {},
   "outputs": [
    {
     "data": {
      "text/plain": [
       "0.6817999999999987"
      ]
     },
     "execution_count": 18,
     "metadata": {},
     "output_type": "execute_result"
    }
   ],
   "source": [
    "#Tries out a bunch of different alphas\n",
    "minDiff = 2**31 -1\n",
    "bestAlpha = -1\n",
    "for n in range(1,100):\n",
    "    alpha = float(n)/float(100)\n",
    "    diff = getPredictDiff(df, teams, alpha)\n",
    "    if diff < minDiff:\n",
    "        minDiff = diff\n",
    "        bestAlpha = alpha\n",
    "alpha = bestAlpha - 0.01\n",
    "for n in range(1,100):\n",
    "    alpha += 0.0002\n",
    "    diff = getPredictDiff(df, teams, alpha)\n",
    "    if diff < minDiff:\n",
    "        minDiff = diff\n",
    "        bestAlpha = alpha\n",
    "bestAlpha"
   ]
  },
  {
   "cell_type": "code",
   "execution_count": 9,
   "id": "de9d7ae0-1284-4721-821e-9d9209e2cbab",
   "metadata": {},
   "outputs": [],
   "source": [
    "def getTestDiff(df, teams, alpha):\n",
    "    predictions = []\n",
    "    for n in teams:\n",
    "        for scores in ewma(df[n][:-3],span,alpha):\n",
    "            predictions.append(abs(scores))\n",
    "    return sum(predictions)/float(len(predictions))"
   ]
  },
  {
   "cell_type": "code",
   "execution_count": 14,
   "id": "51f5d118-9b5c-45b0-a20b-89d51eba5074",
   "metadata": {},
   "outputs": [
    {
     "data": {
      "text/plain": [
       "44.065095076650195"
      ]
     },
     "execution_count": 14,
     "metadata": {},
     "output_type": "execute_result"
    }
   ],
   "source": [
    "#Gets average absolute difference for teams using the best alpha from testing\n",
    "getTestDiff(df,teams,bestAlpha)"
   ]
  },
  {
   "cell_type": "code",
   "execution_count": 16,
   "id": "1a1c790a",
   "metadata": {},
   "outputs": [
    {
     "data": {
      "text/plain": [
       "45.83304610081861"
      ]
     },
     "execution_count": 16,
     "metadata": {},
     "output_type": "execute_result"
    }
   ],
   "source": [
    "#Gets average absolute difference just using previous year's ranking\n",
    "getTestDiff(df,teams,1)"
   ]
  },
  {
   "cell_type": "code",
   "execution_count": 12,
   "id": "1821d3f9",
   "metadata": {},
   "outputs": [
    {
     "data": {
      "text/plain": [
       "45.83304610081861"
      ]
     },
     "execution_count": 12,
     "metadata": {},
     "output_type": "execute_result"
    }
   ],
   "source": []
  },
  {
   "cell_type": "code",
   "execution_count": null,
   "id": "dbdc0f07",
   "metadata": {},
   "outputs": [],
   "source": []
  }
 ],
 "metadata": {
  "kernelspec": {
   "display_name": "Python 3 (ipykernel)",
   "language": "python",
   "name": "python3"
  },
  "language_info": {
   "codemirror_mode": {
    "name": "ipython",
    "version": 3
   },
   "file_extension": ".py",
   "mimetype": "text/x-python",
   "name": "python",
   "nbconvert_exporter": "python",
   "pygments_lexer": "ipython3",
   "version": "3.9.13"
  }
 },
 "nbformat": 4,
 "nbformat_minor": 5
}
