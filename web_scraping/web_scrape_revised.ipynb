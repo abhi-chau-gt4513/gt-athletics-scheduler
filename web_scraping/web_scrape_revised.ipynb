{
 "cells": [
  {
   "attachments": {},
   "cell_type": "markdown",
   "metadata": {},
   "source": [
    "# Web Scraping"
   ]
  },
  {
   "cell_type": "code",
   "execution_count": null,
   "metadata": {},
   "outputs": [],
   "source": [
    "!pip install requests\n",
    "!pip install beautifulsoup4\n",
    "!pip install openpyxl\n",
    "\n"
   ]
  },
  {
   "cell_type": "code",
   "execution_count": null,
   "metadata": {},
   "outputs": [],
   "source": [
    "import requests\n",
    "import methods\n",
    "import pandas as pd\n",
    "import numpy as np\n",
    "\n",
    "from bs4 import BeautifulSoup\n",
    "from openpyxl import load_workbook"
   ]
  },
  {
   "cell_type": "code",
   "execution_count": null,
   "metadata": {},
   "outputs": [],
   "source": [
    "years = [\"2022\", \"2021\", \"2020\", \"2019\"]\n",
    "\n",
    "teams = methods.get_all_teams(\"2022\")\n",
    "\n",
    "team_pairs = set()\n",
    "\n",
    "consolidated_df = pd.DataFrame()\n",
    "\n",
    "\n",
    "# https://stackoverflow.com/questions/16476924/how-to-iterate-over-rows-in-a-dataframe-in-pandas ***\n",
    "for k in years:\n",
    "    team_pairs = set()\n",
    "\n",
    "    for i in teams:\n",
    "        try:\n",
    "            df = methods.get_dataset_with_home_away(i, k, team_pairs)\n",
    "\n",
    "            consolidated_df = pd.concat([consolidated_df, df], ignore_index=True)\n",
    "        except:\n",
    "            print(i, \"invalid url\")\n",
    "\n"
   ]
  },
  {
   "cell_type": "code",
   "execution_count": null,
   "metadata": {},
   "outputs": [],
   "source": [
    "consolidated_df"
   ]
  },
  {
   "cell_type": "code",
   "execution_count": null,
   "metadata": {},
   "outputs": [],
   "source": [
    "consolidated_df.to_excel(\"data.xlsx\", sheet_name=\"Sheet 1\", index=False)"
   ]
  },
  {
   "cell_type": "code",
   "execution_count": null,
   "metadata": {},
   "outputs": [],
   "source": [
    "\n",
    "\n",
    "import methods\n",
    "\n",
    "# teams = methods.get_all_teams(\"2022\")\n",
    "\n",
    "# print(*teams, sep=\"\\n\")\n",
    "home_venues = methods.get_home_venues()\n",
    "\n",
    "home_venues[\"Connecticut\"] = \"Gampel Pavilion+XL Center\"\n",
    "home_venues[\"Dixie-State\"] = \"Burns Arena\"\n",
    "home_venues[\"Saint-Bonaventure\"] = \"Reilly Center\"\n",
    "home_venues[\"Saint-Francis-NY\"] = \"Pope Physical Education Center\"\n",
    "home_venues[\"Saint-Johns\"] = \"Carnesecca Arena+Madison Square Garden\"\n",
    "home_venues[\"Saint-Thomas\"] = \"Schoenecker Arena\"\n",
    "home_venues[\"South-Carolina-Upstate\"] = \"G. B. Hodge Center\"\n",
    "home_venues[\"South-Florida\"] = \"Yuengling Center\"\n",
    "home_venues[\"ULM\"] = \"Fant–Ewing Coliseum\"\n",
    "home_venues[\"UMKC\"] = \"Swinney Recreation Center\"\n",
    "home_venues[\"UTA\"] = \"College Park Center\"\n",
    "\n",
    "print(\"{\")\n",
    "for i in sorted(home_venues):\n",
    "    print(\"\\\"\" + i + \"\\\": \\\"\" + home_venues[i] + \"\\\", \")\n",
    "print(\"}\")\n",
    "\n",
    "# methods.get_home_venues()"
   ]
  },
  {
   "cell_type": "code",
   "execution_count": null,
   "metadata": {},
   "outputs": [],
   "source": [
    "import methods\n",
    "\n",
    "teams = methods.get_all_teams(\"2022\")\n",
    "\n",
    "print(*teams, sep=\"\\n\")"
   ]
  },
  {
   "cell_type": "code",
   "execution_count": 2,
   "metadata": {},
   "outputs": [],
   "source": [
    "# Found a lot of issues with name reconciliation: very nonscalable!\n",
    "# Looking for much faster way: only look out for tournament arenas.\n",
    "# Steps:\n",
    "#   1) Get the consolidated dataframe without the home and away logic. Note: team 2 is almost always home team!\n",
    "#   2) In Excel itself, do the home and away logic.\n",
    "import pandas as pd\n",
    "import numpy as np\n",
    "import methods\n",
    "\n",
    "years = [\"2022\", \"2021\"]\n",
    "\n",
    "\n",
    "\n",
    "team_pairs = set()\n",
    "\n",
    "consolidated_df = pd.DataFrame()\n",
    "\n",
    "\n",
    "# https://stackoverflow.com/questions/16476924/how-to-iterate-over-rows-in-a-dataframe-in-pandas ***\n",
    "for k in years:\n",
    "    team_pairs = set()\n",
    "    teams = methods.get_all_teams(k)\n",
    "\n",
    "    # for i in teams:\n",
    "    #     print(methods.get_url(i, k))\n",
    "\n",
    "    \n",
    "\n",
    "    for i in teams:\n",
    "        df = methods.get_dataset(i, k, team_pairs)\n",
    "\n",
    "        consolidated_df = pd.concat([consolidated_df, df], ignore_index=True)\n",
    "        # try:\n",
    "        #     df = methods.get_dataset(i, k, team_pairs)\n",
    "\n",
    "        #     consolidated_df = pd.concat([consolidated_df, df], ignore_index=True)\n",
    "        # except:\n",
    "        #     print(i, k, \"invalid url\")\n",
    "\n"
   ]
  },
  {
   "cell_type": "code",
   "execution_count": 2,
   "metadata": {},
   "outputs": [],
   "source": [
    "import requests\n",
    "import methods\n",
    "import pandas as pd\n",
    "import numpy as np\n",
    "\n",
    "from bs4 import BeautifulSoup\n",
    "from openpyxl import load_workbook\n",
    "\n",
    "\n",
    "# Important: Some matches were missed because teams play each other more than once in a single season!!!!!\n",
    "# TODO: Fix the lookup dictionary for duplicate to include scores!\n",
    "\n",
    "consolidated_df.to_excel(\"data_test3.xlsx\", sheet_name=\"Sheet 1\", index=False)\n",
    "\n",
    "# methods.get_match_dates(\"Alabama\", \"2022\")"
   ]
  },
  {
   "cell_type": "code",
   "execution_count": 1,
   "metadata": {},
   "outputs": [
    {
     "data": {
      "text/plain": [
       "['DEC 9 WED ',\n",
       " 'DEC 13 SUN ',\n",
       " 'DEC 14 MON ',\n",
       " 'DEC 19 SAT ',\n",
       " 'DEC 20 SUN ',\n",
       " 'DEC 26 SAT ',\n",
       " 'DEC 27 SUN ',\n",
       " 'JAN 1 FRI ',\n",
       " 'JAN 2 SAT ',\n",
       " 'JAN 4 MON ',\n",
       " 'JAN 8 FRI ',\n",
       " 'JAN 9 SAT ',\n",
       " 'JAN 15 FRI ',\n",
       " 'JAN 16 SAT ',\n",
       " 'JAN 22 FRI ',\n",
       " 'JAN 23 SAT ',\n",
       " 'JAN 29 FRI ',\n",
       " 'JAN 30 SAT ',\n",
       " 'FEB 5 FRI ',\n",
       " 'FEB 6 SAT ',\n",
       " 'FEB 8 MON ',\n",
       " 'FEB 12 FRI ',\n",
       " 'FEB 13 SAT ',\n",
       " 'FEB 19 FRI ',\n",
       " 'FEB 20 SAT ',\n",
       " 'FEB 25 THU ',\n",
       " 'MAR 2 TUE ']"
      ]
     },
     "execution_count": 1,
     "metadata": {},
     "output_type": "execute_result"
    }
   ],
   "source": [
    "import requests\n",
    "import methods\n",
    "import pandas as pd\n",
    "import numpy as np\n",
    "\n",
    "from bs4 import BeautifulSoup\n",
    "from openpyxl import load_workbook\n",
    "\n",
    "schedule_list = methods.get_team_schedule_list(\"Youngstown-State\", \"2021\")\n",
    "\n",
    "dates = methods.get_match_dates(\"Youngstown-State\", \"2021\")\n",
    "\n",
    "dates\n",
    "# print(schedule_list[0])"
   ]
  }
 ],
 "metadata": {
  "kernelspec": {
   "display_name": "Python 3",
   "language": "python",
   "name": "python3"
  },
  "language_info": {
   "codemirror_mode": {
    "name": "ipython",
    "version": 3
   },
   "file_extension": ".py",
   "mimetype": "text/x-python",
   "name": "python",
   "nbconvert_exporter": "python",
   "pygments_lexer": "ipython3",
   "version": "3.10.0"
  },
  "orig_nbformat": 4,
  "vscode": {
   "interpreter": {
    "hash": "aee8b7b246df8f9039afb4144a1f6fd8d2ca17a180786b69acc140d282b71a49"
   }
  }
 },
 "nbformat": 4,
 "nbformat_minor": 2
}
